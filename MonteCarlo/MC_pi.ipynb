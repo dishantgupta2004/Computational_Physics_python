{
 "cells": [
  {
   "cell_type": "markdown",
   "id": "2c8fc009",
   "metadata": {},
   "source": [
    "### Calculating pi using a Monte Carlo algorithm"
   ]
  },
  {
   "cell_type": "markdown",
   "id": "3b5fe998",
   "metadata": {},
   "source": [
    "Calculating the value of π (pi) using Monte Carlo simulation is a fascinating and illustrative example of how this statistical technique can be applied to estimate mathematical constants. The basic idea is to use random sampling to simulate a geometric probability scenario. Here’s a detailed explanation of how this can be done."
   ]
  },
  {
   "cell_type": "markdown",
   "id": "b16bf2fc",
   "metadata": {},
   "source": [
    "- The Monte Carlo method for estimating π is based on the idea of comparing the area of a quarter circle to the area of a square that bounds it.\n",
    "1. Quarter Circle: Imagine a quarter circle of radius ( r ) inscribed within a square. The area of the quarter circle is $ \\frac{1}{4} \\pi r^2 $.\n",
    "2. Square: The area of the square that bounds this quarter circle is ( r^2 ).\n",
    "3. When we take the ratio of the area of the quarter circle to the area of the square, we get:\n",
    "\n",
    "$ \\text{Ratio} = \\frac{\\text{Area of Quarter Circle}}{\\text{Area of Square}} = \\frac{\\frac{1}{4} \\pi r^2}{r^2} = \\frac{\\pi}{4} $\n",
    "\n",
    "From this, we can derive that:\n",
    "$ \\pi = 4 \\times \\frac{\\text{Number of Points Inside Quarter Circle}}{\\text{Total Number of Points}} $"
   ]
  },
  {
   "cell_type": "code",
   "execution_count": 1,
   "id": "1b276d72",
   "metadata": {},
   "outputs": [],
   "source": [
    "import numpy as np\n",
    "import matplotlib.pyplot as plt \n",
    "import matplotlib.patches as patches"
   ]
  },
  {
   "cell_type": "code",
   "execution_count": 2,
   "id": "a9c43ef1",
   "metadata": {},
   "outputs": [
    {
     "data": {
      "text/plain": [
       "(-1.1, 1.1)"
      ]
     },
     "execution_count": 2,
     "metadata": {},
     "output_type": "execute_result"
    },
    {
     "data": {
      "image/png": "[encoded data removed]",
      "text/plain": [
       "<Figure size 640x480 with 1 Axes>"
      ]
     },
     "metadata": {},
     "output_type": "display_data"
    }
   ],
   "source": [
    "fig = plt.figure()\n",
    "ax = fig.add_subplot(111, aspect='equal')\n",
    "\n",
    "rectangle = patches.Rectangle((-1,-1),2,2, facecolor='red')\n",
    "ax.add_patch(rectangle)\n",
    "\n",
    "circle = patches.Circle((0,0),1, facecolor='none', edgecolor='blue')\n",
    "ax.add_patch(circle)\n",
    "\n",
    "plt.xlim([-1.1,1.1])\n",
    "plt.ylim([-1.1,1.1])"
   ]
  },
  {
   "cell_type": "code",
   "execution_count": null,
   "id": "feb4c824",
   "metadata": {},
   "outputs": [
    {
     "name": "stdout",
     "output_type": "stream",
     "text": [
      "Estimated value of π: 3.1439\n",
      "Estimated value of π: 3.139992\n",
      "Estimated value of π: 3.141856\n",
      "Estimated value of π: 3.142992\n",
      "Estimated value of π: 3.141052\n",
      "Estimated value of π: 3.141092\n",
      "Estimated value of π: 3.14348\n",
      "Estimated value of π: 3.142892\n",
      "4.58 s ± 175 ms per loop (mean ± std. dev. of 7 runs, 1 loop each)\n"
     ]
    }
   ],
   "source": [
    "%%timeit\n",
    "########### LOOP METHOD #################\n",
    "def estimate_pi(num_samples):\n",
    "    inside_circle = 0\n",
    "    for _ in range(num_samples):\n",
    "        # Generate a random point (x, y)\n",
    "        x = np.random.uniform(0, 1)\n",
    "        y = np.random.uniform(0, 1)\n",
    "        \n",
    "        # check if the point is inside the quarter circle\n",
    "        if x**2 + y**2 <= 1:\n",
    "            inside_circle += 1\n",
    "    \n",
    "    # Estimate pi\n",
    "    pi_estimate = 4 * inside_circle / num_samples\n",
    "    return pi_estimate\n",
    "num_samples = 1000000  # You can increase this for better accuracy\n",
    "pi_value = estimate_pi(num_samples)\n",
    "print(f\"Estimated value of π: {pi_value}\")"
   ]
  },
  {
   "cell_type": "code",
   "execution_count": null,
   "id": "818b7264",
   "metadata": {},
   "outputs": [
    {
     "name": "stdout",
     "output_type": "stream",
     "text": [
      "3.138572\n",
      "3.141556\n",
      "3.14368\n",
      "3.144908\n",
      "3.141572\n",
      "3.144276\n",
      "3.143936\n",
      "3.141232\n",
      "3.143244\n",
      "3.140916\n",
      "3.139772\n",
      "3.140508\n",
      "3.143868\n",
      "3.142056\n",
      "3.139872\n",
      "3.1424\n",
      "3.14296\n",
      "3.142764\n",
      "3.141508\n",
      "3.14238\n",
      "3.141728\n",
      "3.142152\n",
      "3.143424\n",
      "3.141648\n",
      "3.143272\n",
      "3.140276\n",
      "3.142736\n",
      "3.139712\n",
      "3.143016\n",
      "3.143616\n",
      "3.140292\n",
      "3.144352\n",
      "3.139844\n",
      "3.139236\n",
      "3.13874\n",
      "3.139136\n",
      "3.144208\n",
      "3.141832\n",
      "3.142572\n",
      "3.1399\n",
      "3.142952\n",
      "3.140976\n",
      "3.139088\n",
      "3.144024\n",
      "3.138552\n",
      "3.145388\n",
      "3.142224\n",
      "3.142744\n",
      "3.137972\n",
      "3.14314\n",
      "3.13966\n",
      "3.139084\n",
      "3.141112\n",
      "3.140556\n",
      "3.144496\n",
      "3.140124\n",
      "3.144256\n",
      "3.142084\n",
      "3.141864\n",
      "3.14476\n",
      "3.14272\n",
      "3.141976\n",
      "3.143116\n",
      "3.14196\n",
      "3.143896\n",
      "3.141776\n",
      "3.144212\n",
      "3.140968\n",
      "3.142816\n",
      "3.139668\n",
      "3.142432\n",
      "3.142456\n",
      "3.141624\n",
      "3.141728\n",
      "3.140076\n",
      "3.141644\n",
      "3.140376\n",
      "3.139732\n",
      "3.1411\n",
      "3.139372\n",
      "3.141196\n",
      "56.7 ms ± 4.27 ms per loop (mean ± std. dev. of 7 runs, 10 loops each)\n"
     ]
    }
   ],
   "source": [
    "%%timeit\n",
    "##############LIST/ARRAY METHOD ################\n",
    "points = 1000000\n",
    "rand = 2*np.random.rand(2*points) - 1\n",
    "randpoints = rand.reshape(points, 2)\n",
    "normpoints = randpoints[:, 0]**2 + randpoints[:, 1]**2\n",
    "pointsIn = randpoints[normpoints <=1]\n",
    "piapprox = 4 * len(pointsIn) / points\n",
    "print(piapprox)"
   ]
  },
  {
   "cell_type": "code",
   "execution_count": null,
   "id": "66d6f45a",
   "metadata": {},
   "outputs": [],
   "source": []
  }
 ],
 "metadata": {
  "kernelspec": {
   "display_name": "Python 3",
   "language": "python",
   "name": "python3"
  },
  "language_info": {
   "codemirror_mode": {
    "name": "ipython",
    "version": 3
   },
   "file_extension": ".py",
   "mimetype": "text/x-python",
   "name": "python",
   "nbconvert_exporter": "python",
   "pygments_lexer": "ipython3",
   "version": "3.13.0"
  }
 },
 "nbformat": 4,
 "nbformat_minor": 5
}

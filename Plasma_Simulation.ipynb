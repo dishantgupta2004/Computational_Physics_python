{
 "cells": [
  {
   "cell_type": "code",
   "execution_count": 2,
   "metadata": {},
   "outputs": [],
   "source": [
    "import numpy as np\n",
    "import matplotlib.pyplot as plt\n",
    "from scipy.integrate import solve_ivp, solve_bvp\n",
    "from scipy.sparse import diags\n",
    "from scipy.sparse.linalg import cg"
   ]
  },
  {
   "cell_type": "code",
   "execution_count": 2,
   "metadata": {},
   "outputs": [],
   "source": [
    "### Constants:\n",
    "ni, ne = 1e18, 1e18   ## (/m^3)\n",
    "qi = +1   ## ion charge\n",
    "qe = -1   ## electron charge\n",
    "\n",
    "def conductivity_plasma(ni, ne, qi, qe):\n",
    "    \"\"\" Calculates total conductivity of plasma\n",
    "\n",
    "    Args:\n",
    "        ni (float32): ion density\n",
    "        ne (float32): electron density\n",
    "        qi (float32): ion charge\n",
    "        qe (float32): electron charge\n",
    "    \"\"\"\n",
    "    return ni * qi + ne * qe\n",
    "\n",
    "def surface_charge_density(sigma, v):\n",
    "    \"\"\" Gives surface charge density of plasma\n",
    "\n",
    "    Args:\n",
    "        sigma (float32): Condunctivity\n",
    "        v (float32): velocity particle\n",
    "    \"\"\"\n",
    "    return sigma * v\n",
    "\n",
    "\n",
    "\n",
    "def gauss_law_3d(rho, dx, dy, dz, epsilon_0=8.85e-12):\n",
    "    \"\"\"\n",
    "    Solve Gauss's law to find the electric field using scipy.\n",
    "\n",
    "    Parameters:\n",
    "        rho (ndarray): 3D array of charge density.\n",
    "        dx, dy, dz (float): Grid spacings in x, y, z directions.\n",
    "        epsilon_0 (float): Permittivity of free space.\n",
    "\n",
    "    Returns:\n",
    "        Ex, Ey, Ez (ndarray): 3D arrays of electric field components.\n",
    "    \"\"\"\n",
    "    # Get grid dimensions\n",
    "    nx, ny, nz = rho.shape\n",
    "\n",
    "    # Compute the divergence of E (∇·E = rho / ε₀)\n",
    "    divergence = rho / epsilon_0\n",
    "\n",
    "    # Define grid Laplacian operator using sparse matrix (7-point stencil)\n",
    "    N = nx * ny * nz\n",
    "    diag = -6 * np.ones(N)\n",
    "    off_diag = np.ones(N)\n",
    "\n",
    "    diagonals = [diag,\n",
    "                 off_diag[:-1], off_diag[:-1],\n",
    "                 off_diag[:-ny], off_diag[:-ny],\n",
    "                 off_diag[:-nx*ny], off_diag[:-nx*ny]]\n",
    "\n",
    "    offsets = [0, 1, -1, nx, -nx, nx*ny, -nx*ny]\n",
    "    laplacian = diags(diagonals, offsets, shape=(N, N), format='csr')\n",
    "\n",
    "    # Solve Poisson's equation (∇²V = -∇·E)\n",
    "    divergence_flat = divergence.ravel()  # Flatten 3D to 1D\n",
    "    potential_flat, info = cg(laplacian, -divergence_flat, rtol=1e-6)\n",
    "\n",
    "    if info != 0:\n",
    "        raise RuntimeError(f\"CG solver did not converge (info={info})\")\n",
    "\n",
    "    # Reshape solution back to 3D\n",
    "    potential = potential_flat.reshape((nx, ny, nz))\n",
    "\n",
    "    # Compute the electric field components (E = -∇V)\n",
    "    Ex = -(np.roll(potential, -1, axis=0) - np.roll(potential, 1, axis=0)) / (2 * dx)\n",
    "    Ey = -(np.roll(potential, -1, axis=1) - np.roll(potential, 1, axis=1)) / (2 * dy)\n",
    "    Ez = -(np.roll(potential, -1, axis=2) - np.roll(potential, 1, axis=2)) / (2 * dz)\n",
    "\n",
    "    return Ex, Ey, Ez\n",
    "\n"
   ]
  },
  {
   "cell_type": "code",
   "execution_count": 1,
   "metadata": {},
   "outputs": [],
   "source": [
    "### This is not complete yet I will complete it later and update on github in few days."
   ]
  },
  {
   "cell_type": "code",
   "execution_count": null,
   "metadata": {},
   "outputs": [],
   "source": []
  }
 ],
 "metadata": {
  "kernelspec": {
   "display_name": "Python 3",
   "language": "python",
   "name": "python3"
  },
  "language_info": {
   "codemirror_mode": {
    "name": "ipython",
    "version": 3
   },
   "file_extension": ".py",
   "mimetype": "text/x-python",
   "name": "python",
   "nbconvert_exporter": "python",
   "pygments_lexer": "ipython3",
   "version": "3.13.0"
  }
 },
 "nbformat": 4,
 "nbformat_minor": 2
}

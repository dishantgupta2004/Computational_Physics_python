{
 "cells": [
  {
   "cell_type": "markdown",
   "id": "f4419154",
   "metadata": {},
   "source": [
    "# Rotational motion"
   ]
  },
  {
   "cell_type": "code",
   "execution_count": 7,
   "id": "ce2064a4",
   "metadata": {},
   "outputs": [],
   "source": [
    "import numpy as np\n",
    "import matplotlib.pyplot as plt"
   ]
  },
  {
   "cell_type": "markdown",
   "id": "ef2d44f8",
   "metadata": {},
   "source": [
    "## Rotation of a point mass around a point in space"
   ]
  },
  {
   "cell_type": "code",
   "execution_count": 8,
   "id": "e223f4db",
   "metadata": {},
   "outputs": [],
   "source": [
    " m = 1   ### Mass - SI unit: [m] = kg\n",
    " r = 1   ### Radius - [r] = m\n",
    " omega = 1  ### Angular velocity - [omega] = 1/s"
   ]
  },
  {
   "cell_type": "markdown",
   "id": "6b33634f",
   "metadata": {},
   "source": [
    "### Calculate energy"
   ]
  },
  {
   "cell_type": "code",
   "execution_count": 9,
   "id": "94518316",
   "metadata": {},
   "outputs": [
    {
     "data": {
      "text/plain": [
       "0.5"
      ]
     },
     "execution_count": 9,
     "metadata": {},
     "output_type": "execute_result"
    }
   ],
   "source": [
    "Energy = 0.5*m*omega**2 * r**2\n",
    "\n",
    "Energy"
   ]
  },
  {
   "cell_type": "markdown",
   "id": "f9a23427",
   "metadata": {},
   "source": [
    "Rotation energy = kinetic energy "
   ]
  },
  {
   "cell_type": "markdown",
   "id": "947ba853",
   "metadata": {},
   "source": [
    "## Rotation energy of multiple point masses"
   ]
  },
  {
   "cell_type": "markdown",
   "id": "9c6da35a",
   "metadata": {},
   "source": [
    "If we assume that all point masses belong to the same object, they have the same angular velocity omega.\n",
    "Only the radius differs."
   ]
  },
  {
   "cell_type": "markdown",
   "id": "5a25e849",
   "metadata": {},
   "source": [
    "$E_\\mathrm{rot} = \\frac{I}{2}\\omega^2 \\\\) with \\\\( I = m \\sum_i r_i^2$: Moment of inertia"
   ]
  },
  {
   "cell_type": "code",
   "execution_count": 10,
   "id": "646b6982",
   "metadata": {},
   "outputs": [
    {
     "data": {
      "text/plain": [
       "1072.4"
      ]
     },
     "execution_count": 10,
     "metadata": {},
     "output_type": "execute_result"
    }
   ],
   "source": [
    "def pointrotational(masses, radii, omega):\n",
    "    \"\"\"Total rotational energy of system of point particles\n",
    "\n",
    "    Args:\n",
    "        masses(float32): mass\n",
    "        radii (float32): radius\n",
    "        omega (float32): angular frequency\n",
    "    \"\"\"\n",
    "    ## considering axis be z axis thus omega in z direction\n",
    "    ## r be position coordinates of masses\n",
    "    energy = 0\n",
    "    for mass, radius in zip(masses, radii):\n",
    "        energy = energy + 0.5*mass*radius**2 * omega**2\n",
    "        \n",
    "    return energy\n",
    "\n",
    "pointrotational([1.5, 3.4, 3.7], [-2, 4.5, 4], 4.0)\n",
    "        "
   ]
  },
  {
   "cell_type": "markdown",
   "id": "04f32220",
   "metadata": {},
   "source": [
    "### Rotating a stick around one end ( $ I = \\frac{1}{3}ms^2 $ )"
   ]
  },
  {
   "cell_type": "code",
   "execution_count": 11,
   "id": "7de36a3e",
   "metadata": {},
   "outputs": [
    {
     "data": {
      "text/plain": [
       "Text(0, 0.5, 'Y')"
      ]
     },
     "execution_count": 11,
     "metadata": {},
     "output_type": "execute_result"
    },
    {
     "data": {
      "image/png": "[encoded data removed]",
      "text/plain": [
       "<Figure size 640x100 with 1 Axes>"
      ]
     },
     "metadata": {},
     "output_type": "display_data"
    }
   ],
   "source": [
    " s = 1                ### Length - Unit [s] = m\n",
    " num_points = 13\n",
    " x_list = np.linspace(0, s, num_points)\n",
    " fig = plt.figure()\n",
    " fig.set_alpha(0.5)\n",
    " fig.set_figheight(1)\n",
    " plt.plot(x_list, np.zeros(num_points))\n",
    " plt.xlabel(\"X\")\n",
    " plt.ylabel(\"Y\")"
   ]
  },
  {
   "cell_type": "code",
   "execution_count": 12,
   "id": "e048e19f",
   "metadata": {},
   "outputs": [
    {
     "data": {
      "text/plain": [
       "0.3750187500000004"
      ]
     },
     "execution_count": 12,
     "metadata": {},
     "output_type": "execute_result"
    }
   ],
   "source": [
    "def rotating_rod(length,length_density, ic,omega, num_of_points = 100):\n",
    "    \"\"\"Gives rotational kinetic energy of rod\n",
    "\n",
    "    Args:\n",
    "        length (float32): Length of rod\n",
    "        ic (float32): Initial condition where moment of inertia is zero\n",
    "        length_density (float32): mass per unit length\n",
    "        omega (float32): Angular frequency of rod\n",
    "    \"\"\"\n",
    "    h = length / num_of_points   ## step size\n",
    "    y = ic\n",
    "    I = 0\n",
    "    for i in range(num_of_points):\n",
    "        f_n = length_density * y**2\n",
    "        f_n1 = length_density * (y + h)**2\n",
    "        I += h * (f_n + f_n1) / 2  # Modified Euler update\n",
    "        y+= h\n",
    "        \n",
    "    return 0.5*I*omega**2\n",
    "\n",
    "rotating_rod(1, 1, 0, 1.5)\n",
    "    "
   ]
  },
  {
   "cell_type": "markdown",
   "id": "975e8642",
   "metadata": {},
   "source": [
    "- analytical result:\n",
    "\n",
    " $$E_\\mathrm{rot} = \\frac{I}{2}\\omega^2 = \\frac{1}{2}\\omega^2\\int\\mathrm{d}m\\, r^2$$\n",
    "\n",
    " $$I = \\int\\mathrm{d}m\\, r^2 \\quad\\quad\\quad \\text{with}\\quad \\mathrm{d}m = \\sigma\\,\\mathrm{d}r \\quad\\quad\\quad \\text{and}\\quad \\sigma = \\frac{m}{s}\\quad\\text{length density}$$\n",
    " \n",
    " $$I = \\frac{m}{s}\\int_0^s\\mathrm{d}r\\, r^2$$\n",
    " \n",
    " $$I = \\frac{m}{s} \\frac{1}{3}[r^3]_{r=0}^{r=s}$$\n",
    " \n",
    " $$I = \\frac{1}{3}ms^2$$"
   ]
  },
  {
   "cell_type": "code",
   "execution_count": 13,
   "id": "89f4f062",
   "metadata": {},
   "outputs": [
    {
     "data": {
      "text/plain": [
       "0.375"
      ]
     },
     "execution_count": 13,
     "metadata": {},
     "output_type": "execute_result"
    }
   ],
   "source": [
    "m, l, omega = 1, 1, 1.5\n",
    "(m*l**2 / 3)*0.5*omega**2"
   ]
  },
  {
   "cell_type": "markdown",
   "id": "feb7d062",
   "metadata": {},
   "source": [
    "### Rotating a stick around the middle ( $I = \\frac{1}{12}ms^2$ )"
   ]
  },
  {
   "cell_type": "markdown",
   "id": "3db03ed4",
   "metadata": {},
   "source": [
    "- analytical result:\n",
    "\n",
    " $$E_\\mathrm{rot} = \\frac{I}{2}\\omega^2 = \\frac{1}{2}\\omega^2\\int\\mathrm{d}m\\, r^2$$\n",
    "\n",
    " $$I = \\int\\mathrm{d}m\\, r^2 \\quad\\quad\\quad \\text{with}\\quad \\mathrm{d}m = \\sigma\\,\\mathrm{d}r \\quad\\quad\\quad \\text{and}\\quad \\sigma = \\frac{m}{s}\\quad\\text{length density}$$\n",
    " \n",
    " $$I = \\frac{m}{s}\\int_{-s/2}^{s/2}\\mathrm{d}r\\, r^2$$\n",
    " \n",
    " $$I = \\frac{m}{s} \\frac{1}{3}[r^3]_{r=-s/2}^{r=s/2}$$\n",
    " \n",
    " $$I = \\frac{m}{s} \\frac{1}{3}\\left[\\frac{s^3}{8}-\\left(-\\frac{s^3}{8}\\right)\\right]$$\n",
    " \n",
    " $$I = \\frac{1}{12}ms^2$$"
   ]
  },
  {
   "cell_type": "markdown",
   "id": "d4511634",
   "metadata": {},
   "source": [
    "### Rotating a sphere around the z axis ( $I = \\frac{2}{5}mR^2$ )"
   ]
  },
  {
   "cell_type": "code",
   "execution_count": 15,
   "id": "f2e57202",
   "metadata": {},
   "outputs": [],
   "source": [
    "num_points = 50    ### just for plotting\n",
    "coord_list = []\n",
    "counter = 0\n",
    "contribution = 0\n",
    "for x in np.linspace(-r, r, num_points):\n",
    "    for y in np.linspace(-r, r, num_points):\n",
    "        for z in np.linspace(-r, r, num_points):\n",
    "            if (np.linalg.norm([x, y, z]) <= r):\n",
    "                coord_list.append([x,y,z])\n",
    "                counter += 1\n",
    "                contribution = contribution + np.linalg.norm([x, y, 0])**2\n"
   ]
  },
  {
   "cell_type": "code",
   "execution_count": 23,
   "id": "87eb9770",
   "metadata": {},
   "outputs": [
    {
     "data": {
      "text/plain": [
       "<mpl_toolkits.mplot3d.art3d.Path3DCollection at 0x2247fe2ead0>"
      ]
     },
     "execution_count": 23,
     "metadata": {},
     "output_type": "execute_result"
    },
    {
     "data": {
      "image/png": "[encoded data removed]",
      "text/plain": [
       "<Figure size 640x480 with 1 Axes>"
      ]
     },
     "metadata": {},
     "output_type": "display_data"
    }
   ],
   "source": [
    "coord_list = np.transpose(coord_list)\n",
    "plt3d = plt.axes(projection= '3d')\n",
    "plt3d.scatter(coord_list[0], coord_list[1], coord_list[2])"
   ]
  },
  {
   "cell_type": "code",
   "execution_count": 24,
   "id": "6e244b94",
   "metadata": {},
   "outputs": [
    {
     "data": {
      "text/plain": [
       "np.float64(0.4491700619163969)"
      ]
     },
     "execution_count": 24,
     "metadata": {},
     "output_type": "execute_result"
    }
   ],
   "source": [
    "(m / counter) * contribution /2 * omega**2"
   ]
  },
  {
   "cell_type": "code",
   "execution_count": 25,
   "id": "d5138dee",
   "metadata": {},
   "outputs": [
    {
     "data": {
      "text/plain": [
       "0.45"
      ]
     },
     "execution_count": 25,
     "metadata": {},
     "output_type": "execute_result"
    }
   ],
   "source": [
    "(0.4*1*1)*0.5*2.25"
   ]
  },
  {
   "cell_type": "markdown",
   "id": "e39a9a8e",
   "metadata": {},
   "source": [
    "- analytical result\n",
    "\n",
    " $$E_\\mathrm{rot} = \\frac{I}{2}\\omega^2 = \\frac{1}{2}\\omega^2\\int\\mathrm{d}m\\, r^2$$\n",
    "\n",
    " $$I = \\int\\mathrm{d}m\\, r^2 \\quad\\quad\\quad \\text{with}\\quad \\mathrm{d}m = \\rho\\,\\mathrm{d}V \\quad\\quad\\quad \\text{and}\\quad \\rho=\\frac{m}{V} \\quad\\text{(volume) density}$$\n",
    " \n",
    " $$I = \\frac{m}{V}\\int_V\\mathrm{d}V\\, r^2$$\n",
    " \n",
    " use cylindrical coordinates\n",
    " \n",
    " $$I = \\frac{m}{V}\\int_{z=-R}^{R}\\int_{r=0}^{\\tilde{R}(z)}\\int_{\\varphi=0}^{2\\pi}\\,r\\,\\mathrm{d}r\\mathrm{d}z\\mathrm{d}\\varphi\\, r^2$$\n",
    " \n",
    " Calculate polar-angle integral and use $\\tilde{R}(z) = \\sqrt{R^2-z^2} $\n",
    " \n",
    "  $$I = \\frac{m}{V} \\left(\\int_{\\varphi=0}^{2\\pi}\\,\\mathrm{d}\\varphi\\right)\\, \\int_{z=-R}^{R}\\int_{r=0}^{\\tilde{R}(z)} r^3 \\,\\mathrm{d}r\\mathrm{d}z$$\n",
    "  \n",
    "  $$I = \\frac{m}{V} 2\\pi\\,\\int_{z=-R}^{R} \\left[\\frac{1}{4}r^4\\right]_{r=0}^{\\sqrt{R^2-z^2}} \\,\\mathrm{d}z $$\n",
    "  \n",
    "  $$I = \\frac{m}{V} 2\\pi\\,\\int_{z=-R}^{R} \\frac{1}{4}\\left(R^2-z^2\\right)^2 \\,\\mathrm{d}z$$\n",
    "  \n",
    "  $$I = \\frac{m}{V} \\frac{\\pi}{2}\\,\\int_{z=-R}^{R} \\left(R^4-2R^2z^2+z^4\\right) \\,\\mathrm{d}z $$\n",
    "  \n",
    "  $$I = \\frac{m}{V} \\frac{\\pi}{2}\\,\\left[R^4z-\\frac{2}{3}R^2z^3+\\frac{1}{5}z^5\\right]_{z=-R}^{R}$$\n",
    "  \n",
    "  $$I = \\frac{m}{V} \\frac{\\pi}{2}\\,2\\left(R^5-\\frac{2}{3}R^5+\\frac{1}{5}R^5\\right)$$\n",
    "  \n",
    "  $$I = \\frac{m}{V} \\pi\\,\\frac{8}{15}R^5$$\n",
    "  \n",
    " use volume of the sphere $V = \\frac{4}{3}\\pi R^3 $\n",
    " \n",
    " $$I = m \\frac{\\frac{8}{15}\\pi R^5}{\\frac{4}{3}\\pi R^3}$$\n",
    " \n",
    " $$I = \\frac{2}{5}mR^2$$"
   ]
  },
  {
   "cell_type": "markdown",
   "id": "d5213af6",
   "metadata": {},
   "source": [
    "### Rotating a spherical shell around the z axis ( $I = \\frac{2}{5}m\\frac{r_1^5-r_2^5}{r_1^3-r_2^3} $ )"
   ]
  },
  {
   "cell_type": "code",
   "execution_count": 26,
   "id": "052e0915",
   "metadata": {},
   "outputs": [
    {
     "data": {
      "text/plain": [
       "0.5552631578947368"
      ]
     },
     "execution_count": 26,
     "metadata": {},
     "output_type": "execute_result"
    }
   ],
   "source": [
    "### Analytical result\n",
    "m = 1.0\n",
    "r1 = 1.0\n",
    "r2 = 1.5\n",
    "omega = 1.0\n",
    "\n",
    "0.5*(0.4*m*((r1**5 - r2**5) / (r1**3 - r2**3)))*omega**2"
   ]
  },
  {
   "cell_type": "code",
   "execution_count": 27,
   "id": "e702ed5f",
   "metadata": {},
   "outputs": [],
   "source": [
    "### Numerical result\n",
    "num_points = 50    ### just for plotting\n",
    "coord_list = []\n",
    "counter = 0\n",
    "contribution = 0\n",
    "for x in np.linspace(-r, r, num_points):\n",
    "    for y in np.linspace(-r, r, num_points):\n",
    "        for z in np.linspace(-r, r, num_points):\n",
    "            if (r1 <= np.linalg.norm([x, y, z]) <= r2):\n",
    "                coord_list.append([x,y,z])\n",
    "                counter += 1\n",
    "                contribution = contribution + np.linalg.norm([x, y, 0])**2\n"
   ]
  },
  {
   "cell_type": "code",
   "execution_count": null,
   "id": "617433e5",
   "metadata": {},
   "outputs": [],
   "source": []
  },
  {
   "cell_type": "code",
   "execution_count": null,
   "id": "507d24bf",
   "metadata": {},
   "outputs": [],
   "source": []
  }
 ],
 "metadata": {
  "kernelspec": {
   "display_name": "Python 3",
   "language": "python",
   "name": "python3"
  },
  "language_info": {
   "codemirror_mode": {
    "name": "ipython",
    "version": 3
   },
   "file_extension": ".py",
   "mimetype": "text/x-python",
   "name": "python",
   "nbconvert_exporter": "python",
   "pygments_lexer": "ipython3",
   "version": "3.13.0"
  }
 },
 "nbformat": 4,
 "nbformat_minor": 5
}
